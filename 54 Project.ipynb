{
 "cells": [
  {
   "cell_type": "markdown",
   "id": "b586c696",
   "metadata": {
    "id": "b586c696"
   },
   "source": [
    "### Connect to MongoDB "
   ]
  },
  {
   "cell_type": "code",
   "execution_count": 1,
   "id": "7a35af30",
   "metadata": {
    "colab": {
     "base_uri": "https://localhost:8080/",
     "height": 347
    },
    "executionInfo": {
     "elapsed": 556,
     "status": "error",
     "timestamp": 1682530260799,
     "user": {
      "displayName": "Catherine Liu",
      "userId": "08593088684372390480"
     },
     "user_tz": 240
    },
    "id": "7a35af30",
    "outputId": "ebe0e13f-fdfc-4a46-dcf3-c1281e4f797e"
   },
   "outputs": [],
   "source": [
    "from pymongo import MongoClient\n",
    "client = MongoClient('localhost',27017) ## or MongoClient(\"localhost:27\")\n",
    "db = client.apan5400"
   ]
  },
  {
   "cell_type": "markdown",
   "id": "772a036b",
   "metadata": {
    "id": "772a036b"
   },
   "source": [
    "### Import Data"
   ]
  },
  {
   "cell_type": "code",
   "execution_count": 2,
   "id": "8e205fdb",
   "metadata": {
    "id": "8e205fdb"
   },
   "outputs": [],
   "source": [
    "import pandas as pd\n",
    "import numpy as np\n",
    "\n",
    "unemployment = pd.read_csv(\"Local_Area_Unemployment_Statistics__Beginning_1976.csv\")\n",
    "employment_n_wages = pd.read_csv(\"Quarterly_Census_of_Employment_and_Wages_Annual_Data__Beginning_2000.csv\")\n",
    "labor_force = pd.read_csv(\"Selected_Labor_Force_Characteristics_of_Youth_Aged_16_to_24.csv\")\n",
    "population = pd.read_csv(\"Annual_Population_Estimates_for_New_York_State_and_Counties__Beginning_1970.csv\")"
   ]
  },
  {
   "cell_type": "markdown",
   "id": "89936703",
   "metadata": {
    "id": "89936703"
   },
   "source": [
    "#### Local_Area_Unemployment_Statistics__Beginning_1976"
   ]
  },
  {
   "cell_type": "code",
   "execution_count": 3,
   "id": "c1b46346",
   "metadata": {
    "id": "c1b46346",
    "outputId": "03034ae7-fcbc-4b55-c83b-d4307ed3e7ad"
   },
   "outputs": [
    {
     "data": {
      "text/html": [
       "<div>\n",
       "<style scoped>\n",
       "    .dataframe tbody tr th:only-of-type {\n",
       "        vertical-align: middle;\n",
       "    }\n",
       "\n",
       "    .dataframe tbody tr th {\n",
       "        vertical-align: top;\n",
       "    }\n",
       "\n",
       "    .dataframe thead th {\n",
       "        text-align: right;\n",
       "    }\n",
       "</style>\n",
       "<table border=\"1\" class=\"dataframe\">\n",
       "  <thead>\n",
       "    <tr style=\"text-align: right;\">\n",
       "      <th></th>\n",
       "      <th>Area</th>\n",
       "      <th>Year</th>\n",
       "      <th>Month</th>\n",
       "      <th>Labor Force</th>\n",
       "      <th>Employed</th>\n",
       "      <th>Unemployed</th>\n",
       "      <th>Unemployment Rate</th>\n",
       "    </tr>\n",
       "  </thead>\n",
       "  <tbody>\n",
       "    <tr>\n",
       "      <th>0</th>\n",
       "      <td>New York State</td>\n",
       "      <td>2023</td>\n",
       "      <td>1</td>\n",
       "      <td>9,594,400</td>\n",
       "      <td>9,155,000</td>\n",
       "      <td>439,400</td>\n",
       "      <td>4.6</td>\n",
       "    </tr>\n",
       "    <tr>\n",
       "      <th>1</th>\n",
       "      <td>New York State</td>\n",
       "      <td>2023</td>\n",
       "      <td>2</td>\n",
       "      <td>9,664,000</td>\n",
       "      <td>9,232,200</td>\n",
       "      <td>431,800</td>\n",
       "      <td>4.5</td>\n",
       "    </tr>\n",
       "    <tr>\n",
       "      <th>2</th>\n",
       "      <td>New York State</td>\n",
       "      <td>2022</td>\n",
       "      <td>1</td>\n",
       "      <td>9,593,500</td>\n",
       "      <td>9,060,200</td>\n",
       "      <td>533,300</td>\n",
       "      <td>5.6</td>\n",
       "    </tr>\n",
       "    <tr>\n",
       "      <th>3</th>\n",
       "      <td>New York State</td>\n",
       "      <td>2022</td>\n",
       "      <td>2</td>\n",
       "      <td>9,594,900</td>\n",
       "      <td>9,078,800</td>\n",
       "      <td>516,100</td>\n",
       "      <td>5.4</td>\n",
       "    </tr>\n",
       "    <tr>\n",
       "      <th>4</th>\n",
       "      <td>New York State</td>\n",
       "      <td>2022</td>\n",
       "      <td>3</td>\n",
       "      <td>9,626,600</td>\n",
       "      <td>9,173,400</td>\n",
       "      <td>453,200</td>\n",
       "      <td>4.7</td>\n",
       "    </tr>\n",
       "    <tr>\n",
       "      <th>...</th>\n",
       "      <td>...</td>\n",
       "      <td>...</td>\n",
       "      <td>...</td>\n",
       "      <td>...</td>\n",
       "      <td>...</td>\n",
       "      <td>...</td>\n",
       "      <td>...</td>\n",
       "    </tr>\n",
       "    <tr>\n",
       "      <th>87305</th>\n",
       "      <td>Yorktown Town</td>\n",
       "      <td>1990</td>\n",
       "      <td>8</td>\n",
       "      <td>18,800</td>\n",
       "      <td>18,300</td>\n",
       "      <td>500</td>\n",
       "      <td>2.7</td>\n",
       "    </tr>\n",
       "    <tr>\n",
       "      <th>87306</th>\n",
       "      <td>Yorktown Town</td>\n",
       "      <td>1990</td>\n",
       "      <td>9</td>\n",
       "      <td>18,200</td>\n",
       "      <td>17,800</td>\n",
       "      <td>500</td>\n",
       "      <td>2.7</td>\n",
       "    </tr>\n",
       "    <tr>\n",
       "      <th>87307</th>\n",
       "      <td>Yorktown Town</td>\n",
       "      <td>1990</td>\n",
       "      <td>10</td>\n",
       "      <td>18,200</td>\n",
       "      <td>17,700</td>\n",
       "      <td>500</td>\n",
       "      <td>2.6</td>\n",
       "    </tr>\n",
       "    <tr>\n",
       "      <th>87308</th>\n",
       "      <td>Yorktown Town</td>\n",
       "      <td>1990</td>\n",
       "      <td>11</td>\n",
       "      <td>18,000</td>\n",
       "      <td>17,500</td>\n",
       "      <td>500</td>\n",
       "      <td>2.9</td>\n",
       "    </tr>\n",
       "    <tr>\n",
       "      <th>87309</th>\n",
       "      <td>Yorktown Town</td>\n",
       "      <td>1990</td>\n",
       "      <td>12</td>\n",
       "      <td>18,000</td>\n",
       "      <td>17,400</td>\n",
       "      <td>500</td>\n",
       "      <td>2.9</td>\n",
       "    </tr>\n",
       "  </tbody>\n",
       "</table>\n",
       "<p>87310 rows × 7 columns</p>\n",
       "</div>"
      ],
      "text/plain": [
       "                 Area  Year  Month Labor Force   Employed Unemployed  \\\n",
       "0      New York State  2023      1   9,594,400  9,155,000    439,400   \n",
       "1      New York State  2023      2   9,664,000  9,232,200    431,800   \n",
       "2      New York State  2022      1   9,593,500  9,060,200    533,300   \n",
       "3      New York State  2022      2   9,594,900  9,078,800    516,100   \n",
       "4      New York State  2022      3   9,626,600  9,173,400    453,200   \n",
       "...               ...   ...    ...         ...        ...        ...   \n",
       "87305   Yorktown Town  1990      8      18,800     18,300        500   \n",
       "87306   Yorktown Town  1990      9      18,200     17,800        500   \n",
       "87307   Yorktown Town  1990     10      18,200     17,700        500   \n",
       "87308   Yorktown Town  1990     11      18,000     17,500        500   \n",
       "87309   Yorktown Town  1990     12      18,000     17,400        500   \n",
       "\n",
       "       Unemployment Rate                                                                                                                                                                        \n",
       "0                                                    4.6                                                                                                                                        \n",
       "1                                                    4.5                                                                                                                                        \n",
       "2                                                    5.6                                                                                                                                        \n",
       "3                                                    5.4                                                                                                                                        \n",
       "4                                                    4.7                                                                                                                                        \n",
       "...                                                  ...                                                                                                                                        \n",
       "87305                                                2.7                                                                                                                                        \n",
       "87306                                                2.7                                                                                                                                        \n",
       "87307                                                2.6                                                                                                                                        \n",
       "87308                                                2.9                                                                                                                                        \n",
       "87309                                                2.9                                                                                                                                        \n",
       "\n",
       "[87310 rows x 7 columns]"
      ]
     },
     "execution_count": 3,
     "metadata": {},
     "output_type": "execute_result"
    }
   ],
   "source": [
    "unemployment"
   ]
  },
  {
   "cell_type": "markdown",
   "id": "93e83c39",
   "metadata": {
    "id": "93e83c39"
   },
   "source": [
    "#### Quarterly_Census_of_Employment_and_Wages_Annual_Data__Beginning_2000"
   ]
  },
  {
   "cell_type": "code",
   "execution_count": 4,
   "id": "1896f156",
   "metadata": {
    "id": "1896f156",
    "outputId": "77631041-2923-458e-d651-2dd54cc4ed0d"
   },
   "outputs": [
    {
     "data": {
      "text/html": [
       "<div>\n",
       "<style scoped>\n",
       "    .dataframe tbody tr th:only-of-type {\n",
       "        vertical-align: middle;\n",
       "    }\n",
       "\n",
       "    .dataframe tbody tr th {\n",
       "        vertical-align: top;\n",
       "    }\n",
       "\n",
       "    .dataframe thead th {\n",
       "        text-align: right;\n",
       "    }\n",
       "</style>\n",
       "<table border=\"1\" class=\"dataframe\">\n",
       "  <thead>\n",
       "    <tr style=\"text-align: right;\">\n",
       "      <th></th>\n",
       "      <th>Area Type</th>\n",
       "      <th>Area</th>\n",
       "      <th>NAICS</th>\n",
       "      <th>NAICS Title</th>\n",
       "      <th>Year</th>\n",
       "      <th>Establishments</th>\n",
       "      <th>Average Employment</th>\n",
       "      <th>Total Wage</th>\n",
       "      <th>Annual Average Salary</th>\n",
       "    </tr>\n",
       "  </thead>\n",
       "  <tbody>\n",
       "    <tr>\n",
       "      <th>0</th>\n",
       "      <td>State</td>\n",
       "      <td>New York State</td>\n",
       "      <td>0</td>\n",
       "      <td>Total, All Industries</td>\n",
       "      <td>2021</td>\n",
       "      <td>16,419</td>\n",
       "      <td>1,356,205</td>\n",
       "      <td>108,353,922,686</td>\n",
       "      <td>79,895</td>\n",
       "    </tr>\n",
       "    <tr>\n",
       "      <th>1</th>\n",
       "      <td>State</td>\n",
       "      <td>New York State</td>\n",
       "      <td>11</td>\n",
       "      <td>Agriculture, Forestry, Fishing and Hunting</td>\n",
       "      <td>2021</td>\n",
       "      <td>3,048</td>\n",
       "      <td>27,326</td>\n",
       "      <td>1,129,605,900</td>\n",
       "      <td>41,338</td>\n",
       "    </tr>\n",
       "    <tr>\n",
       "      <th>2</th>\n",
       "      <td>State</td>\n",
       "      <td>New York State</td>\n",
       "      <td>21</td>\n",
       "      <td>Mining</td>\n",
       "      <td>2021</td>\n",
       "      <td>346</td>\n",
       "      <td>4,667</td>\n",
       "      <td>352,348,688</td>\n",
       "      <td>75,498</td>\n",
       "    </tr>\n",
       "    <tr>\n",
       "      <th>3</th>\n",
       "      <td>State</td>\n",
       "      <td>New York State</td>\n",
       "      <td>22</td>\n",
       "      <td>Utilities</td>\n",
       "      <td>2021</td>\n",
       "      <td>688</td>\n",
       "      <td>35,288</td>\n",
       "      <td>4,987,460,561</td>\n",
       "      <td>141,336</td>\n",
       "    </tr>\n",
       "    <tr>\n",
       "      <th>4</th>\n",
       "      <td>State</td>\n",
       "      <td>New York State</td>\n",
       "      <td>23</td>\n",
       "      <td>Construction</td>\n",
       "      <td>2021</td>\n",
       "      <td>51,357</td>\n",
       "      <td>374,178</td>\n",
       "      <td>29,960,417,033</td>\n",
       "      <td>80,070</td>\n",
       "    </tr>\n",
       "    <tr>\n",
       "      <th>...</th>\n",
       "      <td>...</td>\n",
       "      <td>...</td>\n",
       "      <td>...</td>\n",
       "      <td>...</td>\n",
       "      <td>...</td>\n",
       "      <td>...</td>\n",
       "      <td>...</td>\n",
       "      <td>...</td>\n",
       "      <td>...</td>\n",
       "    </tr>\n",
       "    <tr>\n",
       "      <th>477922</th>\n",
       "      <td>County</td>\n",
       "      <td>Yates County</td>\n",
       "      <td>8,123</td>\n",
       "      <td>Drycleaning and Laundry Services</td>\n",
       "      <td>2000</td>\n",
       "      <td>3</td>\n",
       "      <td>19</td>\n",
       "      <td>169,839</td>\n",
       "      <td>8,939</td>\n",
       "    </tr>\n",
       "    <tr>\n",
       "      <th>477923</th>\n",
       "      <td>County</td>\n",
       "      <td>Yates County</td>\n",
       "      <td>8,134</td>\n",
       "      <td>Civic and Social Organizations</td>\n",
       "      <td>2000</td>\n",
       "      <td>7</td>\n",
       "      <td>28</td>\n",
       "      <td>293,583</td>\n",
       "      <td>10,485</td>\n",
       "    </tr>\n",
       "    <tr>\n",
       "      <th>477924</th>\n",
       "      <td>County</td>\n",
       "      <td>Yates County</td>\n",
       "      <td>8,139</td>\n",
       "      <td>Professional and Similar Organizations</td>\n",
       "      <td>2000</td>\n",
       "      <td>3</td>\n",
       "      <td>22</td>\n",
       "      <td>396,651</td>\n",
       "      <td>18,030</td>\n",
       "    </tr>\n",
       "    <tr>\n",
       "      <th>477925</th>\n",
       "      <td>County</td>\n",
       "      <td>Yates County</td>\n",
       "      <td>8,141</td>\n",
       "      <td>Private Households</td>\n",
       "      <td>2000</td>\n",
       "      <td>12</td>\n",
       "      <td>42</td>\n",
       "      <td>380,818</td>\n",
       "      <td>9,067</td>\n",
       "    </tr>\n",
       "    <tr>\n",
       "      <th>477926</th>\n",
       "      <td>County</td>\n",
       "      <td>Yates County</td>\n",
       "      <td>9,211</td>\n",
       "      <td>Executive, Legislative, &amp; Gen Government</td>\n",
       "      <td>2000</td>\n",
       "      <td>14</td>\n",
       "      <td>462</td>\n",
       "      <td>10,377,643</td>\n",
       "      <td>22,462</td>\n",
       "    </tr>\n",
       "  </tbody>\n",
       "</table>\n",
       "<p>477927 rows × 9 columns</p>\n",
       "</div>"
      ],
      "text/plain": [
       "       Area Type            Area  NAICS  \\\n",
       "0          State  New York State      0   \n",
       "1          State  New York State     11   \n",
       "2          State  New York State     21   \n",
       "3          State  New York State     22   \n",
       "4          State  New York State     23   \n",
       "...          ...             ...    ...   \n",
       "477922    County    Yates County  8,123   \n",
       "477923    County    Yates County  8,134   \n",
       "477924    County    Yates County  8,139   \n",
       "477925    County    Yates County  8,141   \n",
       "477926    County    Yates County  9,211   \n",
       "\n",
       "                                       NAICS Title  Year Establishments  \\\n",
       "0                            Total, All Industries  2021         16,419   \n",
       "1       Agriculture, Forestry, Fishing and Hunting  2021          3,048   \n",
       "2                                           Mining  2021            346   \n",
       "3                                        Utilities  2021            688   \n",
       "4                                     Construction  2021         51,357   \n",
       "...                                            ...   ...            ...   \n",
       "477922            Drycleaning and Laundry Services  2000              3   \n",
       "477923              Civic and Social Organizations  2000              7   \n",
       "477924      Professional and Similar Organizations  2000              3   \n",
       "477925                          Private Households  2000             12   \n",
       "477926    Executive, Legislative, & Gen Government  2000             14   \n",
       "\n",
       "       Average Employment       Total Wage  \\\n",
       "0               1,356,205  108,353,922,686   \n",
       "1                  27,326    1,129,605,900   \n",
       "2                   4,667      352,348,688   \n",
       "3                  35,288    4,987,460,561   \n",
       "4                 374,178   29,960,417,033   \n",
       "...                   ...              ...   \n",
       "477922                 19          169,839   \n",
       "477923                 28          293,583   \n",
       "477924                 22          396,651   \n",
       "477925                 42          380,818   \n",
       "477926                462       10,377,643   \n",
       "\n",
       "       Annual Average Salary                                                                                                                                                    \n",
       "0                                                  79,895                                                                                                                       \n",
       "1                                                  41,338                                                                                                                       \n",
       "2                                                  75,498                                                                                                                       \n",
       "3                                                 141,336                                                                                                                       \n",
       "4                                                  80,070                                                                                                                       \n",
       "...                                                   ...                                                                                                                       \n",
       "477922                                              8,939                                                                                                                       \n",
       "477923                                             10,485                                                                                                                       \n",
       "477924                                             18,030                                                                                                                       \n",
       "477925                                              9,067                                                                                                                       \n",
       "477926                                             22,462                                                                                                                       \n",
       "\n",
       "[477927 rows x 9 columns]"
      ]
     },
     "execution_count": 4,
     "metadata": {},
     "output_type": "execute_result"
    }
   ],
   "source": [
    "employment_n_wages"
   ]
  },
  {
   "cell_type": "markdown",
   "id": "1e0a375b",
   "metadata": {
    "id": "1e0a375b"
   },
   "source": [
    "#### Selected_Labor_Force_Characteristics_of_Youth_Aged_16_to_24"
   ]
  },
  {
   "cell_type": "code",
   "execution_count": 5,
   "id": "31954c08",
   "metadata": {
    "id": "31954c08",
    "outputId": "d0003275-7f4f-43cb-8ee3-8a3181e38964"
   },
   "outputs": [
    {
     "data": {
      "text/html": [
       "<div>\n",
       "<style scoped>\n",
       "    .dataframe tbody tr th:only-of-type {\n",
       "        vertical-align: middle;\n",
       "    }\n",
       "\n",
       "    .dataframe tbody tr th {\n",
       "        vertical-align: top;\n",
       "    }\n",
       "\n",
       "    .dataframe thead th {\n",
       "        text-align: right;\n",
       "    }\n",
       "</style>\n",
       "<table border=\"1\" class=\"dataframe\">\n",
       "  <thead>\n",
       "    <tr style=\"text-align: right;\">\n",
       "      <th></th>\n",
       "      <th>Year</th>\n",
       "      <th>Region</th>\n",
       "      <th>Youth Population</th>\n",
       "      <th>Youth Civilian Labor Force</th>\n",
       "      <th>Youth Unemployed</th>\n",
       "      <th>Youth Unemployment Rate</th>\n",
       "    </tr>\n",
       "  </thead>\n",
       "  <tbody>\n",
       "    <tr>\n",
       "      <th>0</th>\n",
       "      <td>2021</td>\n",
       "      <td>New York State</td>\n",
       "      <td>2,223,359</td>\n",
       "      <td>1,155,775</td>\n",
       "      <td>182,350</td>\n",
       "      <td>15.78</td>\n",
       "    </tr>\n",
       "    <tr>\n",
       "      <th>1</th>\n",
       "      <td>2021</td>\n",
       "      <td>Capital Region</td>\n",
       "      <td>134,614</td>\n",
       "      <td>73,719</td>\n",
       "      <td>8,858</td>\n",
       "      <td>12.02</td>\n",
       "    </tr>\n",
       "    <tr>\n",
       "      <th>2</th>\n",
       "      <td>2021</td>\n",
       "      <td>Central New York Region</td>\n",
       "      <td>101,038</td>\n",
       "      <td>51,913</td>\n",
       "      <td>5,383</td>\n",
       "      <td>10.37</td>\n",
       "    </tr>\n",
       "    <tr>\n",
       "      <th>3</th>\n",
       "      <td>2021</td>\n",
       "      <td>Finger Lakes Region</td>\n",
       "      <td>142,096</td>\n",
       "      <td>85,121</td>\n",
       "      <td>8,350</td>\n",
       "      <td>9.81</td>\n",
       "    </tr>\n",
       "    <tr>\n",
       "      <th>4</th>\n",
       "      <td>2021</td>\n",
       "      <td>Hudson Valley Region</td>\n",
       "      <td>282,129</td>\n",
       "      <td>149,993</td>\n",
       "      <td>23,230</td>\n",
       "      <td>15.49</td>\n",
       "    </tr>\n",
       "    <tr>\n",
       "      <th>...</th>\n",
       "      <td>...</td>\n",
       "      <td>...</td>\n",
       "      <td>...</td>\n",
       "      <td>...</td>\n",
       "      <td>...</td>\n",
       "      <td>...</td>\n",
       "    </tr>\n",
       "    <tr>\n",
       "      <th>105</th>\n",
       "      <td>2012</td>\n",
       "      <td>Mohawk Valley Region</td>\n",
       "      <td>64,010</td>\n",
       "      <td>35,977</td>\n",
       "      <td>7,176</td>\n",
       "      <td>19.90</td>\n",
       "    </tr>\n",
       "    <tr>\n",
       "      <th>106</th>\n",
       "      <td>2012</td>\n",
       "      <td>New York City Region</td>\n",
       "      <td>1,046,986</td>\n",
       "      <td>495,712</td>\n",
       "      <td>117,870</td>\n",
       "      <td>23.80</td>\n",
       "    </tr>\n",
       "    <tr>\n",
       "      <th>107</th>\n",
       "      <td>2012</td>\n",
       "      <td>North Country Region</td>\n",
       "      <td>64,552</td>\n",
       "      <td>31,154</td>\n",
       "      <td>6,456</td>\n",
       "      <td>20.70</td>\n",
       "    </tr>\n",
       "    <tr>\n",
       "      <th>108</th>\n",
       "      <td>2012</td>\n",
       "      <td>Southern Tier Region</td>\n",
       "      <td>100,867</td>\n",
       "      <td>51,300</td>\n",
       "      <td>8,316</td>\n",
       "      <td>16.20</td>\n",
       "    </tr>\n",
       "    <tr>\n",
       "      <th>109</th>\n",
       "      <td>2012</td>\n",
       "      <td>Western New York Region</td>\n",
       "      <td>184,997</td>\n",
       "      <td>113,957</td>\n",
       "      <td>16,847</td>\n",
       "      <td>14.80</td>\n",
       "    </tr>\n",
       "  </tbody>\n",
       "</table>\n",
       "<p>110 rows × 6 columns</p>\n",
       "</div>"
      ],
      "text/plain": [
       "     Year                   Region Youth Population  \\\n",
       "0    2021           New York State        2,223,359   \n",
       "1    2021           Capital Region          134,614   \n",
       "2    2021  Central New York Region          101,038   \n",
       "3    2021      Finger Lakes Region          142,096   \n",
       "4    2021     Hudson Valley Region          282,129   \n",
       "..    ...                      ...              ...   \n",
       "105  2012     Mohawk Valley Region           64,010   \n",
       "106  2012     New York City Region        1,046,986   \n",
       "107  2012     North Country Region           64,552   \n",
       "108  2012     Southern Tier Region          100,867   \n",
       "109  2012  Western New York Region          184,997   \n",
       "\n",
       "    Youth Civilian Labor Force  Youth Unemployed  Youth Unemployment Rate  \n",
       "0                     1,155,775          182,350                    15.78  \n",
       "1                        73,719            8,858                    12.02  \n",
       "2                        51,913            5,383                    10.37  \n",
       "3                        85,121            8,350                     9.81  \n",
       "4                       149,993           23,230                    15.49  \n",
       "..                          ...              ...                      ...  \n",
       "105                      35,977            7,176                    19.90  \n",
       "106                     495,712          117,870                    23.80  \n",
       "107                      31,154            6,456                    20.70  \n",
       "108                      51,300            8,316                    16.20  \n",
       "109                     113,957           16,847                    14.80  \n",
       "\n",
       "[110 rows x 6 columns]"
      ]
     },
     "execution_count": 5,
     "metadata": {},
     "output_type": "execute_result"
    }
   ],
   "source": [
    "labor_force"
   ]
  },
  {
   "cell_type": "markdown",
   "id": "f65ace43",
   "metadata": {
    "id": "f65ace43"
   },
   "source": [
    "#### Annual_Population_Estimates_for_New_York_State_and_Counties__Beginning_1970"
   ]
  },
  {
   "cell_type": "code",
   "execution_count": 6,
   "id": "2f467210",
   "metadata": {
    "id": "2f467210",
    "outputId": "5eb7dd40-02ee-4807-cc44-78c2343f2a70"
   },
   "outputs": [
    {
     "data": {
      "text/html": [
       "<div>\n",
       "<style scoped>\n",
       "    .dataframe tbody tr th:only-of-type {\n",
       "        vertical-align: middle;\n",
       "    }\n",
       "\n",
       "    .dataframe tbody tr th {\n",
       "        vertical-align: top;\n",
       "    }\n",
       "\n",
       "    .dataframe thead th {\n",
       "        text-align: right;\n",
       "    }\n",
       "</style>\n",
       "<table border=\"1\" class=\"dataframe\">\n",
       "  <thead>\n",
       "    <tr style=\"text-align: right;\">\n",
       "      <th></th>\n",
       "      <th>FIPS Code</th>\n",
       "      <th>Geography</th>\n",
       "      <th>Year</th>\n",
       "      <th>Program Type</th>\n",
       "      <th>Population</th>\n",
       "    </tr>\n",
       "  </thead>\n",
       "  <tbody>\n",
       "    <tr>\n",
       "      <th>0</th>\n",
       "      <td>36000</td>\n",
       "      <td>New York State</td>\n",
       "      <td>2022</td>\n",
       "      <td>Postcensal Population Estimate</td>\n",
       "      <td>19,677,151</td>\n",
       "    </tr>\n",
       "    <tr>\n",
       "      <th>1</th>\n",
       "      <td>36001</td>\n",
       "      <td>Albany County</td>\n",
       "      <td>2022</td>\n",
       "      <td>Postcensal Population Estimate</td>\n",
       "      <td>315,811</td>\n",
       "    </tr>\n",
       "    <tr>\n",
       "      <th>2</th>\n",
       "      <td>36003</td>\n",
       "      <td>Allegany County</td>\n",
       "      <td>2022</td>\n",
       "      <td>Postcensal Population Estimate</td>\n",
       "      <td>46,694</td>\n",
       "    </tr>\n",
       "    <tr>\n",
       "      <th>3</th>\n",
       "      <td>36005</td>\n",
       "      <td>Bronx County</td>\n",
       "      <td>2022</td>\n",
       "      <td>Postcensal Population Estimate</td>\n",
       "      <td>1,379,946</td>\n",
       "    </tr>\n",
       "    <tr>\n",
       "      <th>4</th>\n",
       "      <td>36007</td>\n",
       "      <td>Broome County</td>\n",
       "      <td>2022</td>\n",
       "      <td>Postcensal Population Estimate</td>\n",
       "      <td>197,117</td>\n",
       "    </tr>\n",
       "    <tr>\n",
       "      <th>...</th>\n",
       "      <td>...</td>\n",
       "      <td>...</td>\n",
       "      <td>...</td>\n",
       "      <td>...</td>\n",
       "      <td>...</td>\n",
       "    </tr>\n",
       "    <tr>\n",
       "      <th>3712</th>\n",
       "      <td>36115</td>\n",
       "      <td>Washington County</td>\n",
       "      <td>1970</td>\n",
       "      <td>Intercensal Population Estimate</td>\n",
       "      <td>52,938</td>\n",
       "    </tr>\n",
       "    <tr>\n",
       "      <th>3713</th>\n",
       "      <td>36117</td>\n",
       "      <td>Wayne County</td>\n",
       "      <td>1970</td>\n",
       "      <td>Intercensal Population Estimate</td>\n",
       "      <td>79,703</td>\n",
       "    </tr>\n",
       "    <tr>\n",
       "      <th>3714</th>\n",
       "      <td>36119</td>\n",
       "      <td>Westchester County</td>\n",
       "      <td>1970</td>\n",
       "      <td>Intercensal Population Estimate</td>\n",
       "      <td>894,227</td>\n",
       "    </tr>\n",
       "    <tr>\n",
       "      <th>3715</th>\n",
       "      <td>36121</td>\n",
       "      <td>Wyoming County</td>\n",
       "      <td>1970</td>\n",
       "      <td>Intercensal Population Estimate</td>\n",
       "      <td>38,000</td>\n",
       "    </tr>\n",
       "    <tr>\n",
       "      <th>3716</th>\n",
       "      <td>36123</td>\n",
       "      <td>Yates County</td>\n",
       "      <td>1970</td>\n",
       "      <td>Intercensal Population Estimate</td>\n",
       "      <td>19,978</td>\n",
       "    </tr>\n",
       "  </tbody>\n",
       "</table>\n",
       "<p>3717 rows × 5 columns</p>\n",
       "</div>"
      ],
      "text/plain": [
       "      FIPS Code           Geography  Year                     Program Type  \\\n",
       "0         36000      New York State  2022   Postcensal Population Estimate   \n",
       "1         36001       Albany County  2022   Postcensal Population Estimate   \n",
       "2         36003     Allegany County  2022   Postcensal Population Estimate   \n",
       "3         36005        Bronx County  2022   Postcensal Population Estimate   \n",
       "4         36007       Broome County  2022   Postcensal Population Estimate   \n",
       "...         ...                 ...   ...                              ...   \n",
       "3712      36115   Washington County  1970  Intercensal Population Estimate   \n",
       "3713      36117        Wayne County  1970  Intercensal Population Estimate   \n",
       "3714      36119  Westchester County  1970  Intercensal Population Estimate   \n",
       "3715      36121      Wyoming County  1970  Intercensal Population Estimate   \n",
       "3716      36123        Yates County  1970  Intercensal Population Estimate   \n",
       "\n",
       "      Population  \n",
       "0     19,677,151  \n",
       "1        315,811  \n",
       "2         46,694  \n",
       "3      1,379,946  \n",
       "4        197,117  \n",
       "...          ...  \n",
       "3712      52,938  \n",
       "3713      79,703  \n",
       "3714     894,227  \n",
       "3715      38,000  \n",
       "3716      19,978  \n",
       "\n",
       "[3717 rows x 5 columns]"
      ]
     },
     "execution_count": 6,
     "metadata": {},
     "output_type": "execute_result"
    }
   ],
   "source": [
    "population"
   ]
  },
  {
   "cell_type": "markdown",
   "id": "55d570e0",
   "metadata": {
    "id": "55d570e0"
   },
   "source": [
    "#### To Json"
   ]
  },
  {
   "cell_type": "code",
   "execution_count": 7,
   "id": "e413b6a9",
   "metadata": {
    "id": "e413b6a9",
    "outputId": "c216ca0c-ae9c-496a-c682-f60e93984889"
   },
   "outputs": [
    {
     "name": "stdout",
     "output_type": "stream",
     "text": [
      "87310\n"
     ]
    }
   ],
   "source": [
    "import json\n",
    "#from genson import SchemaBuilder\n",
    "js_unemployment = unemployment.to_json(orient = 'records')\n",
    "js_parsed_unemployment = json.loads(js_unemployment)\n",
    "print(len(js_parsed_unemployment))"
   ]
  },
  {
   "cell_type": "code",
   "execution_count": 8,
   "id": "713a0228",
   "metadata": {
    "id": "713a0228",
    "outputId": "4404ffc0-909b-43a6-f34b-5bd16a56b9f2"
   },
   "outputs": [
    {
     "name": "stdout",
     "output_type": "stream",
     "text": [
      "477927\n"
     ]
    }
   ],
   "source": [
    "import json\n",
    "#from genson import SchemaBuilder\n",
    "js_employment_n_wages = employment_n_wages.to_json(orient = 'records')\n",
    "js_parsed_employment_n_wages = json.loads(js_employment_n_wages)\n",
    "print(len(js_parsed_employment_n_wages))"
   ]
  },
  {
   "cell_type": "code",
   "execution_count": 9,
   "id": "ffebec73",
   "metadata": {
    "id": "ffebec73",
    "outputId": "04d2c429-f223-43de-ceaa-bd1e41ec6447"
   },
   "outputs": [
    {
     "name": "stdout",
     "output_type": "stream",
     "text": [
      "110\n"
     ]
    }
   ],
   "source": [
    "import json\n",
    "#from genson import SchemaBuilder\n",
    "js_labor_force = labor_force.to_json(orient = 'records')\n",
    "js_parsed_labor_force = json.loads(js_labor_force)\n",
    "print(len(js_parsed_labor_force))"
   ]
  },
  {
   "cell_type": "code",
   "execution_count": 10,
   "id": "6da7bb2c",
   "metadata": {
    "id": "6da7bb2c",
    "outputId": "ebb63dca-9be4-487c-dd8f-7639c61dbab4"
   },
   "outputs": [
    {
     "name": "stdout",
     "output_type": "stream",
     "text": [
      "3717\n"
     ]
    }
   ],
   "source": [
    "import json\n",
    "#from genson import SchemaBuilder\n",
    "js_population = population.to_json(orient = 'records')\n",
    "js_parsed_population = json.loads(js_population)\n",
    "print(len(js_parsed_population))"
   ]
  },
  {
   "cell_type": "markdown",
   "id": "60aa475e",
   "metadata": {
    "id": "60aa475e"
   },
   "source": [
    "#### To MongoDB"
   ]
  },
  {
   "cell_type": "code",
   "execution_count": 11,
   "id": "6da6fdc7",
   "metadata": {
    "id": "6da6fdc7",
    "outputId": "24de1b56-164f-47b0-de42-200e55c94a61"
   },
   "outputs": [
    {
     "data": {
      "text/plain": [
       "<pymongo.results.InsertManyResult at 0x10eae1930>"
      ]
     },
     "execution_count": 11,
     "metadata": {},
     "output_type": "execute_result"
    }
   ],
   "source": [
    "collection_unemployment = db.unemployment\n",
    "collection_unemployment.insert_many(js_parsed_unemployment)"
   ]
  },
  {
   "cell_type": "code",
   "execution_count": 12,
   "id": "56f42bbb",
   "metadata": {},
   "outputs": [
    {
     "data": {
      "text/plain": [
       "<pymongo.results.InsertManyResult at 0x29f135090>"
      ]
     },
     "execution_count": 12,
     "metadata": {},
     "output_type": "execute_result"
    }
   ],
   "source": [
    "collection_employment_n_wages = db.employment_n_wages\n",
    "collection_employment_n_wages.insert_many(js_parsed_employment_n_wages)"
   ]
  },
  {
   "cell_type": "code",
   "execution_count": 13,
   "id": "2f5cab14",
   "metadata": {},
   "outputs": [
    {
     "data": {
      "text/plain": [
       "<pymongo.results.InsertManyResult at 0x2a508e740>"
      ]
     },
     "execution_count": 13,
     "metadata": {},
     "output_type": "execute_result"
    }
   ],
   "source": [
    "collection_labor_force = db.labor_force\n",
    "collection_labor_force.insert_many(js_parsed_labor_force)"
   ]
  },
  {
   "cell_type": "code",
   "execution_count": 14,
   "id": "70b1a1bf",
   "metadata": {},
   "outputs": [
    {
     "data": {
      "text/plain": [
       "<pymongo.results.InsertManyResult at 0x29f0f1330>"
      ]
     },
     "execution_count": 14,
     "metadata": {},
     "output_type": "execute_result"
    }
   ],
   "source": [
    "collection_population = db.population\n",
    "collection_population.insert_many(js_parsed_population)"
   ]
  },
  {
   "cell_type": "markdown",
   "id": "ec797c5d",
   "metadata": {},
   "source": [
    "#### Preprocessing"
   ]
  },
  {
   "cell_type": "code",
   "execution_count": 15,
   "id": "5c506baa",
   "metadata": {},
   "outputs": [],
   "source": [
    "# unemployment: labor force only keeps month in December\n",
    "unemployment_col = db.get_collection('unemployment')\n",
    "pipeline = [\n",
    "    { \"$match\": { \"Month\": 12 } }\n",
    "]\n",
    "\n",
    "db_unemployment = unemployment_col.aggregate(pipeline)"
   ]
  },
  {
   "cell_type": "code",
   "execution_count": 16,
   "id": "5b497ca6",
   "metadata": {},
   "outputs": [],
   "source": [
    "# employment_n_wages: filter for total industry\n",
    "employment_n_wages_col = db.get_collection('employment_n_wages')\n",
    "pipeline = [\n",
    "    { \"$match\": { \"NAICS Title\": 'Total, All Industries' } }\n",
    "]\n",
    "\n",
    "db_employment_n_wages = employment_n_wages_col.aggregate(pipeline)"
   ]
  },
  {
   "cell_type": "markdown",
   "id": "afb69c52",
   "metadata": {},
   "source": [
    "#### Join"
   ]
  },
  {
   "cell_type": "code",
   "execution_count": 19,
   "id": "c2293482",
   "metadata": {},
   "outputs": [],
   "source": [
    "result = list(db.db_unemployment.aggregate([    \n",
    "    {        '$lookup':        \n",
    "     {            'from': 'db_employment_n_wages',            \n",
    "                  'let': {'year1': '$year', 'areaVar': '$area'},            \n",
    "                  'pipeline': [               \n",
    "                      {                    '$match':                    \n",
    "                       {                        \n",
    "                          '$expr':                        \n",
    "                           {                            \n",
    "                               '$and':                            \n",
    "                               [                                \n",
    "                                {'$eq': ['$year', '$$year1']},\n",
    "                                {'$eq': ['$area', '$$areaVar']}\n",
    "                            ]\n",
    "                        }\n",
    "                    }\n",
    "                },\n",
    "                \n",
    "            ],\n",
    "            'as': 'employment'\n",
    "        }\n",
    "    },\n",
    "    {\n",
    "        '$lookup':\n",
    "        {\n",
    "            'from': 'labor_force',\n",
    "            'let': {'year2': '$year', 'regionVar': '$region'},\n",
    "            'pipeline': [\n",
    "                {\n",
    "                    '$match':\n",
    "                    {\n",
    "                        '$expr':\n",
    "                        {\n",
    "                            '$and':\n",
    "                            [\n",
    "                                {'$eq': ['$year', '$$year2']},\n",
    "                                {'$eq': ['$region', '$$regionVar']}\n",
    "                            ]\n",
    "                        }\n",
    "                    }\n",
    "                },\n",
    "                \n",
    "            ],\n",
    "            'as': 'labor_force'\n",
    "        }\n",
    "    },\n",
    "    {\n",
    "        '$lookup':\n",
    "        {\n",
    "            'from': 'population',\n",
    "            'let': {'year3': '$year', 'geographyVar': '$geography'},\n",
    "            'pipeline': [\n",
    "                {\n",
    "                    '$match':\n",
    "                    {\n",
    "                        '$expr':\n",
    "                        {\n",
    "                            '$and':\n",
    "                            [\n",
    "                                {'$eq': ['$year', '$$year3']},\n",
    "                                {'$eq': ['$geography', '$$geographyVar']}\n",
    "                            ]\n",
    "                        }\n",
    "                    }\n",
    "                },\n",
    "               \n",
    "            ],\n",
    "            'as': 'population'\n",
    "        }\n",
    "    },\n",
    "    \n",
    "]))\n",
    "\n",
    "for doc in result:\n",
    "    print(doc)\n"
   ]
  },
  {
   "cell_type": "code",
   "execution_count": 20,
   "id": "19819fec",
   "metadata": {},
   "outputs": [
    {
     "data": {
      "text/plain": [
       "[]"
      ]
     },
     "execution_count": 20,
     "metadata": {},
     "output_type": "execute_result"
    }
   ],
   "source": [
    "result"
   ]
  },
  {
   "cell_type": "code",
   "execution_count": null,
   "id": "d1e11c3a",
   "metadata": {},
   "outputs": [],
   "source": []
  }
 ],
 "metadata": {
  "colab": {
   "provenance": []
  },
  "kernelspec": {
   "display_name": "Python 3 (ipykernel)",
   "language": "python",
   "name": "python3"
  },
  "language_info": {
   "codemirror_mode": {
    "name": "ipython",
    "version": 3
   },
   "file_extension": ".py",
   "mimetype": "text/x-python",
   "name": "python",
   "nbconvert_exporter": "python",
   "pygments_lexer": "ipython3",
   "version": "3.10.9"
  }
 },
 "nbformat": 4,
 "nbformat_minor": 5
}
